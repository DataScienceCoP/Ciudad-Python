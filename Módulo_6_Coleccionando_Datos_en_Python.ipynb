{
  "cells": [
    {
      "cell_type": "markdown",
      "metadata": {
        "id": "6qsqTJ4uYzLL"
      },
      "source": [
        "![Data Science Black@300x.png](https://i.imgur.com/eJKkh5m.png)\n",
        "\n",
        "# ¡Bienvenidos a la \"Ciudad Python: Programando la Ciudad del Futuro\"!\n",
        "\n",
        "En este \"notebook\" vamos a continuar aprendiendo más a detalle las diferentes formas de cómo almacenar listas de cosas en Python.\n",
        "\n",
        "## ¿Qué es una Lista?\n",
        "\n",
        "Una Lista es un arreglo de cosas, que tienen una secuencia y forman parte de un grupo."
      ]
    },
    {
      "cell_type": "markdown",
      "metadata": {
        "deletable": true,
        "editable": true,
        "id": "XhJ_q9ReZXYD"
      },
      "source": [
        "## Contenedores Básicos\n",
        "\n",
        "> Nota: Los objetos **mutables** pueden ser modificados después de su creación y los **inmutables** no.\n",
        "\n",
        "Los contenedores son objetos que pueden utilizarse para agrupar otros objetos. Los tipos de contenedores básicos son:\n",
        "\n",
        "- **`str`** (cadena: inmutable; indexada por enteros; los elementos se almacenan en el orden en que fueron añadidos)\n",
        "- **`list`** (lista: mutable; indexada por enteros; los elementos se almacenan en el orden en que se añaden)\n",
        "  - `[3, 5.2, 6, -3, 6, 'perro', 'gato', Falso]`\n",
        "- **`tuple`** (tupla: inmutable; indexada por enteros; los elementos se almacenan en el orden en que se añaden)\n",
        "  - `(3, 5.2, 6, 3, 'perro', 'gato', Falso)`\n",
        "- **`set`** (conjunto: mutable; no está indexado en absoluto; los elementos NO se almacenan en el orden en que se añadieron; sólo puede contener objetos inmutables; NO contiene objetos duplicados)\n",
        "  - `{3, 5.2, 6, -3, 'perro', 'gato', Falso}`\n",
        "- **`dict`** (diccionario: mutable; los pares clave-valor están indexados por claves inmutables; los elementos NO se almacenan en el orden en que se añadieron)\n",
        "  - `{'nombre': 'Jane', 'edad': 23, 'fav_foods': ['pizza', 'fruta', 'pescado']}`\n",
        "\n",
        "Cuando defina listas, tuplas o conjuntos, utilice comas (,) para separar los elementos individuales. Cuando defina diccionarios, utilice dos puntos (:) para separar las claves de los valores y comas (,) para separar los pares clave-valor.\n",
        "\n",
        "Las cadenas de caracteres, las listas y las tuplas son todos **tipos de secuencia** que pueden utilizar los operadores `+`, `*`, `+=` y `*=`."
      ]
    },
    {
      "cell_type": "code",
      "execution_count": 1,
      "metadata": {
        "collapsed": true,
        "deletable": true,
        "editable": true,
        "id": "GjcS2o5yZXYD"
      },
      "outputs": [],
      "source": [
        "# Asignar contenedores a distintas variables\n",
        "simple_string1 = \"Esta es la estación de bus Universidad de Panamá\"\n",
        "list1 = [3, 5, 6, 3, 'dog', 'cat', False]\n",
        "tuple1 = (3, 5, 6, 3, 'dog', 'cat', False)\n",
        "set1 = {3, 5, 6, 3, 'dog', 'cat', False}\n",
        "dict1 = {'name': 'Jane', 'age': 23, 'fav_foods': ['pizza', 'fruit', 'fish']}"
      ]
    },
    {
      "cell_type": "code",
      "execution_count": 2,
      "metadata": {
        "deletable": true,
        "editable": true,
        "id": "tpP6BQ-VZXYD",
        "outputId": "a6998bb0-9166-4e6b-833f-e5d7944d9794"
      },
      "outputs": [
        {
          "data": {
            "text/plain": [
              "[3, 5, 6, 3, 'dog', 'cat', False]"
            ]
          },
          "execution_count": 2,
          "metadata": {},
          "output_type": "execute_result"
        }
      ],
      "source": [
        "# Los elementos dentro de la lista fueron guardados en el orden en el que fueron agregados\n",
        "list1"
      ]
    },
    {
      "cell_type": "code",
      "execution_count": 3,
      "metadata": {
        "deletable": true,
        "editable": true,
        "id": "W9DCezxBZXYD",
        "outputId": "be175e61-e9ab-42ba-c606-52f38b3dbff6"
      },
      "outputs": [
        {
          "data": {
            "text/plain": [
              "(3, 5, 6, 3, 'dog', 'cat', False)"
            ]
          },
          "execution_count": 3,
          "metadata": {},
          "output_type": "execute_result"
        }
      ],
      "source": [
        "# Los elementos dentro de la tupla fueron guardados en el orden en el que fueron agregados\n",
        "tuple1"
      ]
    },
    {
      "cell_type": "code",
      "execution_count": 4,
      "metadata": {
        "deletable": true,
        "editable": true,
        "id": "VGG1rwgxZXYE",
        "outputId": "c5ab32bc-e347-4470-dc3b-58a8be587499"
      },
      "outputs": [
        {
          "data": {
            "text/plain": [
              "{3, 5, 6, False, 'cat', 'dog'}"
            ]
          },
          "execution_count": 4,
          "metadata": {},
          "output_type": "execute_result"
        }
      ],
      "source": [
        "# Los elementos dentro del conjunto NO fueron guardados en el orden en el que fueron agregados\n",
        "# También observa que el valor '3' solo aparece una vez dentro de este objeto\n",
        "set1"
      ]
    },
    {
      "cell_type": "code",
      "execution_count": 5,
      "metadata": {
        "deletable": true,
        "editable": true,
        "id": "yIVGuMrDZXYE",
        "outputId": "e8ee4070-c2d5-4ee3-ec57-d533b55a2850"
      },
      "outputs": [
        {
          "data": {
            "text/plain": [
              "{'name': 'Jane', 'age': 23, 'fav_foods': ['pizza', 'fruit', 'fish']}"
            ]
          },
          "execution_count": 5,
          "metadata": {},
          "output_type": "execute_result"
        }
      ],
      "source": [
        "# Los elementos dentro del diccionario NO fueron guardados en el orden en el que fueron agregados\n",
        "dict1"
      ]
    },
    {
      "cell_type": "code",
      "execution_count": 6,
      "metadata": {
        "deletable": true,
        "editable": true,
        "id": "eJ6YBaksZXYF",
        "outputId": "a0eb7c22-3c93-4abc-f70b-9ec07d3c5c01"
      },
      "outputs": [
        {
          "data": {
            "text/plain": [
              "[3, 5, 6, 3, 'dog', 'cat', False, 5, 'grapes']"
            ]
          },
          "execution_count": 6,
          "metadata": {},
          "output_type": "execute_result"
        }
      ],
      "source": [
        "# Agregar y re-asignar\n",
        "list1 += [5, 'grapes']\n",
        "list1"
      ]
    },
    {
      "cell_type": "code",
      "execution_count": 7,
      "metadata": {
        "deletable": true,
        "editable": true,
        "id": "eqARyTkWZXYF",
        "outputId": "0d8ffaf1-0488-4c67-d0ea-3ce8acbec771"
      },
      "outputs": [
        {
          "data": {
            "text/plain": [
              "(3, 5, 6, 3, 'dog', 'cat', False, 5, 'grapes')"
            ]
          },
          "execution_count": 7,
          "metadata": {},
          "output_type": "execute_result"
        }
      ],
      "source": [
        "# Agregar y re-asignar\n",
        "tuple1 += (5, 'grapes')\n",
        "tuple1"
      ]
    },
    {
      "cell_type": "code",
      "execution_count": 8,
      "metadata": {
        "deletable": true,
        "editable": true,
        "id": "BTJfSR6JZXYF",
        "outputId": "58b1262d-3e41-4ca5-b8df-3024f3d9b82b"
      },
      "outputs": [
        {
          "data": {
            "text/plain": [
              "[1, 2, 3, 4, 1, 2, 3, 4]"
            ]
          },
          "execution_count": 8,
          "metadata": {},
          "output_type": "execute_result"
        }
      ],
      "source": [
        "# Multiplicar una lista por 2\n",
        "[1, 2, 3, 4] * 2"
      ]
    },
    {
      "cell_type": "code",
      "execution_count": 9,
      "metadata": {
        "deletable": true,
        "editable": true,
        "id": "1IcpGzWTZXYG",
        "outputId": "adc5f88a-e6b7-4060-bdb9-e0699cb74fcb"
      },
      "outputs": [
        {
          "data": {
            "text/plain": [
              "(1, 2, 3, 4, 1, 2, 3, 4, 1, 2, 3, 4)"
            ]
          },
          "execution_count": 9,
          "metadata": {},
          "output_type": "execute_result"
        }
      ],
      "source": [
        "# Multiplicar una tupla por 3\n",
        "(1, 2, 3, 4) * 3"
      ]
    },
    {
      "cell_type": "markdown",
      "metadata": {
        "deletable": true,
        "editable": true,
        "id": "euXYdnJmZXYG"
      },
      "source": [
        "## Acceso a los datos en los contenedores\n",
        "\n",
        "Para cadenas de caracteres, listas, tuplas y diccionarios, podemos utilizar la **notación de subíndice** (corchetes) para acceder a los datos en un índice.\n",
        "\n",
        "- Las cadenas, listas y tuplas están indexadas por enteros, **empezando por 0** para el primer elemento\n",
        "  - estos tipos de secuencias también permiten acceder a un rango de elementos, lo que se conoce como **corte**.\n",
        "  - utilizar la **indexación negativa** para empezar por el final de la secuencia\n",
        "- Los diccionarios se indexan por sus claves\n",
        "\n",
        "> Nota: los conjuntos no están indexados, por lo que no podemos utilizar la notación de subíndice para acceder a los elementos de los datos."
      ]
    },
    {
      "cell_type": "code",
      "execution_count": 10,
      "metadata": {
        "deletable": true,
        "editable": true,
        "id": "Y-1dX-z2ZXYG",
        "outputId": "1f105d7b-c956-45ef-c583-ecfa495f7c61"
      },
      "outputs": [
        {
          "data": {
            "text/plain": [
              "3"
            ]
          },
          "execution_count": 10,
          "metadata": {},
          "output_type": "execute_result"
        }
      ],
      "source": [
        "# Accessar al primer elemento de una scuencia\n",
        "list1[0]"
      ]
    },
    {
      "cell_type": "code",
      "execution_count": 12,
      "metadata": {
        "deletable": true,
        "editable": true,
        "id": "2zD7v48wZXYG",
        "outputId": "1d28fc34-0f6a-4724-ef52-7c42c3b20560"
      },
      "outputs": [
        {
          "data": {
            "text/plain": [
              "'grapes'"
            ]
          },
          "execution_count": 12,
          "metadata": {},
          "output_type": "execute_result"
        }
      ],
      "source": [
        "# Accesar al último elemento de una secuencia\n",
        "tuple1[-1]"
      ]
    },
    {
      "cell_type": "code",
      "execution_count": 16,
      "metadata": {
        "deletable": true,
        "editable": true,
        "id": "jtiuVBgQZXYG",
        "outputId": "b4492e96-2f14-4298-9907-e58c1d5617f0"
      },
      "outputs": [
        {
          "data": {
            "text/plain": [
              "'a es '"
            ]
          },
          "execution_count": 16,
          "metadata": {},
          "output_type": "execute_result"
        }
      ],
      "source": [
        "# Accesar a un rango de elementos en una secuencia\n",
        "simple_string1[3:8]"
      ]
    },
    {
      "cell_type": "code",
      "execution_count": 17,
      "metadata": {
        "deletable": true,
        "editable": true,
        "id": "p_FtfGgdZXYH",
        "outputId": "780574f9-5a6d-4832-ad6c-4dc17e69f3e5"
      },
      "outputs": [
        {
          "data": {
            "text/plain": [
              "(3, 5, 6, 3, 'dog', 'cat')"
            ]
          },
          "execution_count": 17,
          "metadata": {},
          "output_type": "execute_result"
        }
      ],
      "source": [
        "# Accesar a un rango de elementos en una secuencia\n",
        "tuple1[:-3]"
      ]
    },
    {
      "cell_type": "code",
      "execution_count": 18,
      "metadata": {
        "deletable": true,
        "editable": true,
        "id": "IeHw8fkVZXYH",
        "outputId": "3f619340-ee4a-4129-8991-8f001227f67f"
      },
      "outputs": [
        {
          "data": {
            "text/plain": [
              "['dog', 'cat', False, 5, 'grapes']"
            ]
          },
          "execution_count": 18,
          "metadata": {},
          "output_type": "execute_result"
        }
      ],
      "source": [
        "# Accesar a un rango de elementos en una secuencia\n",
        "list1[4:]"
      ]
    },
    {
      "cell_type": "code",
      "execution_count": 19,
      "metadata": {
        "deletable": true,
        "editable": true,
        "id": "vtw1EMFtZXYH",
        "outputId": "e1620a1f-c901-4091-fe73-3787ca71e6e2"
      },
      "outputs": [
        {
          "data": {
            "text/plain": [
              "'Jane'"
            ]
          },
          "execution_count": 19,
          "metadata": {},
          "output_type": "execute_result"
        }
      ],
      "source": [
        "# Accesar a un elemento de un diccionario\n",
        "dict1['name']"
      ]
    },
    {
      "cell_type": "code",
      "execution_count": 22,
      "metadata": {
        "deletable": true,
        "editable": true,
        "id": "k5csrQdsZXYH",
        "outputId": "d221934d-8681-4519-a309-10a5bfa76d7b"
      },
      "outputs": [
        {
          "data": {
            "text/plain": [
              "'fish'"
            ]
          },
          "execution_count": 22,
          "metadata": {},
          "output_type": "execute_result"
        }
      ],
      "source": [
        "# Accesar a un elemento de una secuencia de un diccionario\n",
        "dict1['fav_foods'][2]"
      ]
    },
    {
      "cell_type": "markdown",
      "metadata": {
        "id": "9Bhput6cdwms"
      },
      "source": [
        "# Talleres"
      ]
    },
    {
      "cell_type": "markdown",
      "metadata": {
        "id": "eupCZ9wx_0xB"
      },
      "source": [
        "\n",
        "1. Escribe un programa en Python para sumar todos los elementos de la lista de numeros `[1,2,-8]`"
      ]
    },
    {
      "cell_type": "code",
      "execution_count": null,
      "metadata": {
        "id": "vZpP734a_1lp"
      },
      "outputs": [],
      "source": []
    },
    {
      "cell_type": "markdown",
      "metadata": {
        "id": "StI0hwb3_2Ka"
      },
      "source": [
        "2. Escribe un programa en Python para multiplicar todos los elementos de la misma lista `[1,2,-8]`"
      ]
    },
    {
      "cell_type": "code",
      "execution_count": null,
      "metadata": {
        "id": "tsW02ARN_5Vh"
      },
      "outputs": [],
      "source": []
    },
    {
      "cell_type": "markdown",
      "metadata": {
        "id": "xRWMDS57AIWk"
      },
      "source": [
        "3. Escribe un programa en Python para copiar la lista `[10, 22, 44, 23, 4]` a una nueva y cambie el primer caracter por el emoji '🙂'\n"
      ]
    },
    {
      "cell_type": "code",
      "execution_count": null,
      "metadata": {
        "id": "5HVhnyWbAJ3Z"
      },
      "outputs": [],
      "source": []
    }
  ],
  "metadata": {
    "colab": {
      "collapsed_sections": [],
      "name": "Semana_2_2_Almacenando_con_Variables_y_Listas.ipynb",
      "provenance": []
    },
    "kernelspec": {
      "display_name": "Python 3.10.5 64-bit",
      "language": "python",
      "name": "python3"
    },
    "language_info": {
      "codemirror_mode": {
        "name": "ipython",
        "version": 3
      },
      "file_extension": ".py",
      "mimetype": "text/x-python",
      "name": "python",
      "nbconvert_exporter": "python",
      "pygments_lexer": "ipython3",
      "version": "3.10.5"
    },
    "vscode": {
      "interpreter": {
        "hash": "26de051ba29f2982a8de78e945f0abaf191376122a1563185a90213a26c5da77"
      }
    }
  },
  "nbformat": 4,
  "nbformat_minor": 0
}
