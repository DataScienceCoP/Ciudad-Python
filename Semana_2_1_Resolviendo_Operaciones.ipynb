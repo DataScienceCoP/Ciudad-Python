{
  "cells": [
    {
      "cell_type": "code",
      "execution_count": null,
      "metadata": {},
      "outputs": [],
      "source": [
        "import time, threading\n",
        "\n",
        "def mantener_abierto():\n",
        "    while True:\n",
        "        time.sleep(1)\n",
        "\n",
        "threading.Thread(target=mantener_abierto).start()"
      ]
    },
    {
      "cell_type": "markdown",
      "metadata": {
        "id": "gV3qQYzRX10U"
      },
      "source": [
        "![Data Science Black@300x.png](https://i.imgur.com/eJKkh5m.png)\n",
        "\n",
        "# ¡Bienvenidos al taller \"Learning to Code with Dell Technologies\"!\n",
        "\n",
        "En este \"notebook\" vamos a continuar aprendiendo mas a detalle como hacer operaciones en Python.\n",
        "\n",
        "> **Pro Tip**: para una documentación completa de Python existe el tutorial oficial: https://docs.python.org/es/3/tutorial/index.html\n",
        "\n",
        "## ¿Operaciones?\n",
        "\n",
        "¡Así es!, hay operaciones que Python permite ejecutar de manera más fácil y sencilla con instrucciones simples.\n",
        "\n"
      ]
    },
    {
      "cell_type": "markdown",
      "metadata": {
        "id": "CO4AkhBOTJA-"
      },
      "source": [
        "# Operadores Aritméticos\n",
        "\n",
        "Un operador aritmético toma dos operandos como entrada, realiza un cálculo y devuelve el resultado."
      ]
    },
    {
      "cell_type": "markdown",
      "metadata": {
        "id": "_wMY2C33TQAm"
      },
      "source": [
        "# Lista de Operadores\n",
        "- \"+\"\tRealiza Adición entre los operandos\t12 + 3 = 15\n",
        "- \"-\"\tRealiza Substracción entre los operandos\t12 - 3 = 9\n",
        "- \"*\"\tRealiza Multiplicación entre los operandos\t12 * 3 = 36\n",
        "- \"/\"\tRealiza División entre los operandos\t12 / 3 = 4\n",
        "- \"%\"\tRealiza un módulo entre los operandos\t16 % 3 = 1\n",
        "- \"**\"\tRealiza la potencia de los operandos\t12 ** 3 = 1728\n",
        "- \"//\"\tRealiza la división con resultado de número entero\t18 // 5 = 3\n",
        "\n"
      ]
    },
    {
      "cell_type": "code",
      "execution_count": null,
      "metadata": {
        "colab": {
          "base_uri": "https://localhost:8080/"
        },
        "id": "ZQNMVCWKTVZe",
        "outputId": "de929ef5-eaa4-4c8c-a09d-693f21fe8fc6"
      },
      "outputs": [
        {
          "data": {
            "text/plain": [
              "242"
            ]
          },
          "execution_count": 3,
          "metadata": {},
          "output_type": "execute_result"
        }
      ],
      "source": [
        "2 + 3 * 80 # Aqui realizamos una multiplicacion y luego una suma 8 por 3 es 240 mas 2 es 242"
      ]
    },
    {
      "cell_type": "code",
      "execution_count": null,
      "metadata": {
        "colab": {
          "base_uri": "https://localhost:8080/"
        },
        "id": "IVsXmPnfTcD1",
        "outputId": "39ce394e-fbad-417b-b690-65cf6a0ed81a"
      },
      "outputs": [
        {
          "data": {
            "text/plain": [
              "45"
            ]
          },
          "execution_count": 2,
          "metadata": {},
          "output_type": "execute_result"
        }
      ],
      "source": [
        "(2+3) * 9 # Aqui siempre realizamos los paréntesis primero"
      ]
    },
    {
      "cell_type": "code",
      "execution_count": null,
      "metadata": {
        "colab": {
          "base_uri": "https://localhost:8080/"
        },
        "id": "lDw8PD0HTjx-",
        "outputId": "bf51f632-6336-4b7a-ce77-dd30c6527586"
      },
      "outputs": [
        {
          "data": {
            "text/plain": [
              "300"
            ]
          },
          "execution_count": 4,
          "metadata": {},
          "output_type": "execute_result"
        }
      ],
      "source": [
        "30 * 10 # Una simple multiplicacion"
      ]
    },
    {
      "cell_type": "code",
      "execution_count": null,
      "metadata": {
        "colab": {
          "base_uri": "https://localhost:8080/"
        },
        "id": "JcZhDFOuTlzO",
        "outputId": "e40906d5-4909-406e-d787-ad915468575e"
      },
      "outputs": [
        {
          "data": {
            "text/plain": [
              "256"
            ]
          },
          "execution_count": 5,
          "metadata": {},
          "output_type": "execute_result"
        }
      ],
      "source": [
        "2 ** 8 # Estamos elevando 2 al exponente 8"
      ]
    },
    {
      "cell_type": "code",
      "execution_count": null,
      "metadata": {
        "colab": {
          "base_uri": "https://localhost:8080/"
        },
        "id": "OFVRwMj-TnhV",
        "outputId": "e55f9aa9-4218-45b8-f2d7-a08fc49ad570"
      },
      "outputs": [
        {
          "data": {
            "text/plain": [
              "3.2857142857142856"
            ]
          },
          "execution_count": 6,
          "metadata": {},
          "output_type": "execute_result"
        }
      ],
      "source": [
        "23 / 7 # Aqui estamos haciendo una division"
      ]
    },
    {
      "cell_type": "code",
      "execution_count": null,
      "metadata": {
        "colab": {
          "base_uri": "https://localhost:8080/"
        },
        "id": "v1_d0qjxTpI2",
        "outputId": "fdc3a3ad-f6bf-48d8-c85a-c76fafaea893"
      },
      "outputs": [
        {
          "data": {
            "text/plain": [
              "3"
            ]
          },
          "execution_count": 7,
          "metadata": {},
          "output_type": "execute_result"
        }
      ],
      "source": [
        "23 // 7 # La misma division pero truncada a solo enteros"
      ]
    },
    {
      "cell_type": "code",
      "execution_count": null,
      "metadata": {
        "colab": {
          "base_uri": "https://localhost:8080/"
        },
        "id": "hoCo1SicTqt_",
        "outputId": "7660332e-19c0-4c5f-e0aa-fd59642c88e5"
      },
      "outputs": [
        {
          "data": {
            "text/plain": [
              "1"
            ]
          },
          "execution_count": 8,
          "metadata": {},
          "output_type": "execute_result"
        }
      ],
      "source": [
        "5 % 2 # Aca estamos realizado una operacion especial llamada módulo que se refiere al residuo de una division"
      ]
    },
    {
      "cell_type": "code",
      "execution_count": null,
      "metadata": {
        "colab": {
          "base_uri": "https://localhost:8080/"
        },
        "id": "bnQreCaKTsG-",
        "outputId": "4cefd786-1a78-4714-ab68-0e333158d93d"
      },
      "outputs": [
        {
          "data": {
            "text/plain": [
              "2"
            ]
          },
          "execution_count": 9,
          "metadata": {},
          "output_type": "execute_result"
        }
      ],
      "source": [
        "23 % 7 # Otro ejemplo de modulo"
      ]
    },
    {
      "cell_type": "markdown",
      "metadata": {
        "id": "BF0GMkM2KC8O"
      },
      "source": [
        "# Operadores de asignacion\n",
        "\n",
        "Con los operadores antes mencionados podemos crear nuevos operadores llamados operadores de asignacion, lo que nos permite ir agregando o quitando a una variable en especifico, estos operadores son:\n",
        "\n",
        "**=** Como ya lo hemos visto antes es un operador de asignacion simple y nos permite asignar un valor a una variable."
      ]
    },
    {
      "cell_type": "code",
      "execution_count": null,
      "metadata": {
        "id": "OiC4idlULIN3"
      },
      "outputs": [],
      "source": [
        "a = 1"
      ]
    },
    {
      "cell_type": "markdown",
      "metadata": {
        "id": "n2OzC4_pOmKK"
      },
      "source": [
        "Con el operador **=** podemos realizar operaciones en conjunto, por ejemplo:"
      ]
    },
    {
      "cell_type": "code",
      "execution_count": null,
      "metadata": {
        "colab": {
          "base_uri": "https://localhost:8080/"
        },
        "id": "XfGV8RUmOtNr",
        "outputId": "6ea300cd-0d2c-4d75-b9e8-85edf8958d6f"
      },
      "outputs": [
        {
          "data": {
            "text/plain": [
              "2"
            ]
          },
          "execution_count": 13,
          "metadata": {},
          "output_type": "execute_result"
        }
      ],
      "source": [
        "a = 1\n",
        "a = a + 1 # Aqui estamos diciendole a Python que el valor de a, va a ser el mismo valor mas uno\n",
        "a"
      ]
    },
    {
      "cell_type": "markdown",
      "metadata": {
        "id": "ZkcIf6EfO2t7"
      },
      "source": [
        "Esta misma operacion y mucho mas lo podemos realizar de manera sencilla utilizando operadores especiales como:"
      ]
    },
    {
      "cell_type": "markdown",
      "metadata": {
        "id": "cyEbsqGnLJ1-"
      },
      "source": [
        "**+=** Nos permite utilizar el operador de suma para agregar a una variable el valor extra, por ejemplo:"
      ]
    },
    {
      "cell_type": "code",
      "execution_count": null,
      "metadata": {
        "colab": {
          "base_uri": "https://localhost:8080/"
        },
        "id": "RWxBhi1kLT4I",
        "outputId": "8fbae3d0-27bc-48c6-880e-aa060e2e31a9"
      },
      "outputs": [
        {
          "data": {
            "text/plain": [
              "2"
            ]
          },
          "execution_count": 5,
          "metadata": {},
          "output_type": "execute_result"
        }
      ],
      "source": [
        "a = 1\n",
        "a += 1\n",
        "a"
      ]
    },
    {
      "cell_type": "markdown",
      "metadata": {
        "id": "UsY-zd4eLfdo"
      },
      "source": [
        "**-=** Es parecido al anterior, pero hace lo contrario, este resta a una variable existente"
      ]
    },
    {
      "cell_type": "code",
      "execution_count": null,
      "metadata": {
        "colab": {
          "base_uri": "https://localhost:8080/"
        },
        "id": "qVNgyNbPLoZw",
        "outputId": "c64a1677-a247-4c47-da65-d9b1812745db"
      },
      "outputs": [
        {
          "data": {
            "text/plain": [
              "0"
            ]
          },
          "execution_count": 6,
          "metadata": {},
          "output_type": "execute_result"
        }
      ],
      "source": [
        "a = 1\n",
        "a -= 1\n",
        "a"
      ]
    },
    {
      "cell_type": "markdown",
      "metadata": {
        "id": "4B3QyWWnLq9_"
      },
      "source": [
        "***=** Tambien tenemos para la multiplicacion"
      ]
    },
    {
      "cell_type": "code",
      "execution_count": null,
      "metadata": {
        "colab": {
          "base_uri": "https://localhost:8080/"
        },
        "id": "YEThQ2m_L5Eg",
        "outputId": "fcc497c9-2178-43c1-813e-cfe3a28d96d0"
      },
      "outputs": [
        {
          "data": {
            "text/plain": [
              "8"
            ]
          },
          "execution_count": 11,
          "metadata": {},
          "output_type": "execute_result"
        }
      ],
      "source": [
        "a = 2\n",
        "a *= 2\n",
        "a *= 2\n",
        "a"
      ]
    },
    {
      "cell_type": "markdown",
      "metadata": {
        "id": "7Rl2ync6L87Q"
      },
      "source": [
        "**/=** Y la division:"
      ]
    },
    {
      "cell_type": "code",
      "execution_count": null,
      "metadata": {
        "colab": {
          "base_uri": "https://localhost:8080/"
        },
        "id": "uLJ88eydMBAg",
        "outputId": "c0ddf8a8-3553-4b92-946b-9f3f03785501"
      },
      "outputs": [
        {
          "data": {
            "text/plain": [
              "1.0"
            ]
          },
          "execution_count": 10,
          "metadata": {},
          "output_type": "execute_result"
        }
      ],
      "source": [
        "a = 4\n",
        "a /= 2\n",
        "a /= 2\n",
        "a"
      ]
    },
    {
      "cell_type": "markdown",
      "metadata": {
        "id": "_cAql4x5MKLP"
      },
      "source": [
        "Finalmente tenemos operadores como **%=** , **//=** y **\\*\\*=**"
      ]
    },
    {
      "cell_type": "code",
      "execution_count": null,
      "metadata": {
        "colab": {
          "base_uri": "https://localhost:8080/"
        },
        "id": "5GDdTFUaOMvD",
        "outputId": "a9292817-29f2-4258-d14a-6b4f7ed1c0fe"
      },
      "outputs": [
        {
          "data": {
            "text/plain": [
              "1"
            ]
          },
          "execution_count": 12,
          "metadata": {},
          "output_type": "execute_result"
        }
      ],
      "source": [
        "a = 5\n",
        "a %= 2  # El modulo o residuo de 5 entre 2 osea 1 nuevamente a la variable a\n",
        "a"
      ]
    },
    {
      "cell_type": "code",
      "execution_count": null,
      "metadata": {
        "colab": {
          "base_uri": "https://localhost:8080/"
        },
        "id": "CWcn4k8nOdok",
        "outputId": "6b635033-2ca4-406e-e2ad-6eec0d1ba231"
      },
      "outputs": [
        {
          "data": {
            "text/plain": [
              "2"
            ]
          },
          "execution_count": 14,
          "metadata": {},
          "output_type": "execute_result"
        }
      ],
      "source": [
        "a = 5\n",
        "a //= 2 # La division entera de 5 entre 2 osea 2 reasignado a la variable a\n",
        "a"
      ]
    },
    {
      "cell_type": "code",
      "execution_count": null,
      "metadata": {
        "colab": {
          "base_uri": "https://localhost:8080/"
        },
        "id": "-o3mVLghPTiz",
        "outputId": "f8f3b770-0bf1-47dc-d65e-3e5d494b19f4"
      },
      "outputs": [
        {
          "data": {
            "text/plain": [
              "25"
            ]
          },
          "execution_count": 15,
          "metadata": {},
          "output_type": "execute_result"
        }
      ],
      "source": [
        "a = 5\n",
        "a **= 2 # 5 almacenado en a lo elevamos a la potencia 2 y lo almacenamos en a\n",
        "a"
      ]
    },
    {
      "cell_type": "markdown",
      "metadata": {
        "id": "CUpQV9bOP92V"
      },
      "source": [
        "# Operadores de comparacion\n",
        "\n",
        "Ademas de estos operadores hay operadores para comparar valores, por ejemplo: "
      ]
    },
    {
      "cell_type": "markdown",
      "metadata": {
        "id": "LNvVUiuLUWSb"
      },
      "source": [
        "**==** Con este operador comparamos 2 valores y confirmamos si son iguales, por ejemplo:"
      ]
    },
    {
      "cell_type": "code",
      "execution_count": null,
      "metadata": {
        "colab": {
          "base_uri": "https://localhost:8080/"
        },
        "id": "YqP4PiTiQkQ-",
        "outputId": "55551e91-7dda-40e8-ceb7-81346f5b4104"
      },
      "outputs": [
        {
          "data": {
            "text/plain": [
              "True"
            ]
          },
          "execution_count": 23,
          "metadata": {},
          "output_type": "execute_result"
        }
      ],
      "source": [
        "'❤️' == '❤️'"
      ]
    },
    {
      "cell_type": "markdown",
      "metadata": {
        "id": "vuY5XHAhUmJS"
      },
      "source": [
        "**!=** Con este operador vemos si 2 valores son diferentes"
      ]
    },
    {
      "cell_type": "code",
      "execution_count": null,
      "metadata": {
        "colab": {
          "base_uri": "https://localhost:8080/"
        },
        "id": "eyShc_j5Ur7B",
        "outputId": "6f57fca4-9bab-4118-cf10-3e519e0078a2"
      },
      "outputs": [
        {
          "data": {
            "text/plain": [
              "True"
            ]
          },
          "execution_count": 25,
          "metadata": {},
          "output_type": "execute_result"
        }
      ],
      "source": [
        "'Perro 🐕' != 'Gato 🐱'"
      ]
    },
    {
      "cell_type": "markdown",
      "metadata": {
        "id": "XLyhzOxYU7Cz"
      },
      "source": [
        "Tambien tenemos operadores de comparacion mayor, menor, mayor igual o menor igual que:\n",
        "\n",
        "**<** Menor que\n",
        "\n",
        "**>** Mayor que\n",
        "\n",
        "**>=** Mayor igual que\n",
        "\n",
        "**<=** Menor igual que"
      ]
    },
    {
      "cell_type": "code",
      "execution_count": null,
      "metadata": {
        "colab": {
          "base_uri": "https://localhost:8080/"
        },
        "id": "udT-DdjzVlrL",
        "outputId": "4a393adc-d18c-4e68-f1cd-7a418fab1541"
      },
      "outputs": [
        {
          "data": {
            "text/plain": [
              "True"
            ]
          },
          "execution_count": 28,
          "metadata": {},
          "output_type": "execute_result"
        }
      ],
      "source": [
        "2 > 1 # Es cierto que 2 es mayor que 1"
      ]
    },
    {
      "cell_type": "code",
      "execution_count": null,
      "metadata": {
        "colab": {
          "base_uri": "https://localhost:8080/"
        },
        "id": "cuE-Vr3YVPAc",
        "outputId": "57f960ad-28fd-4205-b23a-c9c69fc717f5"
      },
      "outputs": [
        {
          "data": {
            "text/plain": [
              "True"
            ]
          },
          "execution_count": 26,
          "metadata": {},
          "output_type": "execute_result"
        }
      ],
      "source": [
        "1 > 1 # Es falso que 1 es mayor que 1"
      ]
    },
    {
      "cell_type": "code",
      "execution_count": null,
      "metadata": {
        "colab": {
          "base_uri": "https://localhost:8080/"
        },
        "id": "BUstTH8dVT7r",
        "outputId": "82e6ea70-d167-49b6-be95-5bf0eae6fe3a"
      },
      "outputs": [
        {
          "data": {
            "text/plain": [
              "False"
            ]
          },
          "execution_count": 27,
          "metadata": {},
          "output_type": "execute_result"
        }
      ],
      "source": [
        "12 < 3 # Es falso que 12 es menor que 3"
      ]
    },
    {
      "cell_type": "code",
      "execution_count": null,
      "metadata": {
        "colab": {
          "base_uri": "https://localhost:8080/"
        },
        "id": "a73kzNAYVcQS",
        "outputId": "c5f1d679-1f6d-4d57-8faa-b5cbdb2e7808"
      },
      "outputs": [
        {
          "data": {
            "text/plain": [
              "True"
            ]
          },
          "execution_count": 29,
          "metadata": {},
          "output_type": "execute_result"
        }
      ],
      "source": [
        "1 >= 1 # es cierto 1 es mayor o igual a 1"
      ]
    },
    {
      "cell_type": "code",
      "execution_count": null,
      "metadata": {
        "colab": {
          "base_uri": "https://localhost:8080/"
        },
        "id": "7pUoKIW3VpNz",
        "outputId": "e02e1f01-2c60-49e4-ef2e-784c81f91a23"
      },
      "outputs": [
        {
          "data": {
            "text/plain": [
              "True"
            ]
          },
          "execution_count": 31,
          "metadata": {},
          "output_type": "execute_result"
        }
      ],
      "source": [
        "2 <= 2 # es cierto que 2 es mayor o igual a 2"
      ]
    },
    {
      "cell_type": "markdown",
      "metadata": {
        "id": "4ECek5BUbnJb"
      },
      "source": [
        "# Talleres"
      ]
    },
    {
      "cell_type": "markdown",
      "metadata": {
        "id": "Nt71yrh_ZETn"
      },
      "source": [
        "1. Escribe un Programa en Python que de el resultado de 3 a la potencia 100"
      ]
    },
    {
      "cell_type": "code",
      "execution_count": 1,
      "metadata": {
        "id": "IHgZKBaMZO__"
      },
      "outputs": [],
      "source": []
    },
    {
      "cell_type": "markdown",
      "metadata": {
        "id": "YYUfZwWBZRRv"
      },
      "source": [
        "2. Escribe un programa en Python que calcule la raiz cuadrada de 216"
      ]
    },
    {
      "cell_type": "code",
      "execution_count": 1,
      "metadata": {
        "id": "bN-UUyqOZYyn"
      },
      "outputs": [],
      "source": []
    },
    {
      "cell_type": "markdown",
      "metadata": {
        "id": "EBI7CW0uZnQ2"
      },
      "source": [
        "3. Escribe un programa en Python que calcule el modulo (o residuo) del numero 20123 entre 12"
      ]
    },
    {
      "cell_type": "code",
      "execution_count": 1,
      "metadata": {
        "id": "EPuCcvUaZ2Tg"
      },
      "outputs": [],
      "source": []
    },
    {
      "cell_type": "markdown",
      "metadata": {
        "id": "ec0TopX_Z4hJ"
      },
      "source": [
        "4. Cual es la diferencia de (8/2)(2+2) y 8/2*2+2"
      ]
    },
    {
      "cell_type": "code",
      "execution_count": 1,
      "metadata": {
        "id": "DRA3U-lQaVuI"
      },
      "outputs": [],
      "source": []
    },
    {
      "cell_type": "code",
      "execution_count": 1,
      "metadata": {
        "id": "nwaNIHTdakpw"
      },
      "outputs": [],
      "source": []
    },
    {
      "cell_type": "markdown",
      "metadata": {
        "id": "Tg2_vWUPazmP"
      },
      "source": [
        "5. ¿Que es mayor 3<sup>42</sup> o 2021<sup>12</sup>?"
      ]
    },
    {
      "cell_type": "code",
      "execution_count": 1,
      "metadata": {
        "id": "V2-yII21brTT"
      },
      "outputs": [],
      "source": []
    },
    {
      "cell_type": "markdown",
      "metadata": {
        "id": "DO4c5zMVWw0E"
      },
      "source": [
        "6. ¿Son los emojis '😊' y '🙂' iguales?"
      ]
    },
    {
      "cell_type": "code",
      "execution_count": 1,
      "metadata": {
        "id": "ynfDJ-jWXHAM"
      },
      "outputs": [],
      "source": []
    },
    {
      "cell_type": "markdown",
      "metadata": {
        "id": "38II5S4rXPzs"
      },
      "source": [
        "7. ¿El emoji del cohete '🚀' por 3 es igual a '🚀🚀🚀' ?"
      ]
    },
    {
      "cell_type": "code",
      "execution_count": 1,
      "metadata": {
        "id": "sJ78xb8HXa29"
      },
      "outputs": [],
      "source": []
    }
  ],
  "metadata": {
    "colab": {
      "collapsed_sections": [],
      "name": "Semana_2_1_Resolviendo_Operaciones.ipynb",
      "provenance": []
    },
    "kernelspec": {
      "display_name": "Python 3",
      "name": "python3"
    },
    "language_info": {
      "name": "python"
    }
  },
  "nbformat": 4,
  "nbformat_minor": 0
}
