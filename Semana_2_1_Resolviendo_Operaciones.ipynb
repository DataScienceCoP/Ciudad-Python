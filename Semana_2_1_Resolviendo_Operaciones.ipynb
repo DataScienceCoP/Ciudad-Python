{
  "nbformat": 4,
  "nbformat_minor": 0,
  "metadata": {
    "colab": {
      "name": "Semana_2.1_Resolviendo Operaciones.ipynb",
      "provenance": [],
      "collapsed_sections": []
    },
    "kernelspec": {
      "name": "python3",
      "display_name": "Python 3"
    },
    "language_info": {
      "name": "python"
    }
  },
  "cells": [
    {
      "cell_type": "markdown",
      "metadata": {
        "id": "gV3qQYzRX10U"
      },
      "source": [
        "![Data Science Black@300x.png](https://i.imgur.com/eJKkh5m.png)\n",
        "\n",
        "# ¡Bienvenidos al taller \"Learning to Code with Dell Technologies\"!\n",
        "\n",
        "En este \"notebook\" vamos a continuar aprendiendo mas a detalle como mostrar hacer operaciones que necesitan una entrada y devuelven una salida.\n",
        "\n",
        "## ¿Operaciones?\n",
        "\n",
        "¡Así es!, hay operaciones que Python permite ejecutar de manera mas facil y sentilla con instrucciones simples"
      ]
    },
    {
      "cell_type": "markdown",
      "metadata": {
        "id": "CO4AkhBOTJA-"
      },
      "source": [
        "# Operadores Aritméticos\n",
        "\n",
        "Un operador aritmético toma dos operandos como entrada, realiza un cálculo y devuelve el resultado."
      ]
    },
    {
      "cell_type": "markdown",
      "metadata": {
        "id": "_wMY2C33TQAm"
      },
      "source": [
        "# Lista de Operadores\n",
        "- \"+\"\tRealiza Adición entre los operandos\t12 + 3 = 15\n",
        "- \"-\"\tRealiza Substracción entre los operandos\t12 - 3 = 9\n",
        "- \"*\"\tRealiza Multiplicación entre los operandos\t12 * 3 = 36\n",
        "- \"/\"\tRealiza División entre los operandos\t12 / 3 = 4\n",
        "- \"%\"\tRealiza un módulo entre los operandos\t16 % 3 = 1\n",
        "- \"**\"\tRealiza la potencia de los operandos\t12 ** 3 = 1728\n",
        "- \"//\"\tRealiza la división con resultado de número entero\t18 // 5 = 3\n",
        "\n"
      ]
    },
    {
      "cell_type": "code",
      "metadata": {
        "colab": {
          "base_uri": "https://localhost:8080/"
        },
        "id": "ZQNMVCWKTVZe",
        "outputId": "de929ef5-eaa4-4c8c-a09d-693f21fe8fc6"
      },
      "source": [
        "2 + 3 * 80"
      ],
      "execution_count": null,
      "outputs": [
        {
          "output_type": "execute_result",
          "data": {
            "text/plain": [
              "242"
            ]
          },
          "metadata": {},
          "execution_count": 3
        }
      ]
    },
    {
      "cell_type": "code",
      "metadata": {
        "colab": {
          "base_uri": "https://localhost:8080/"
        },
        "id": "IVsXmPnfTcD1",
        "outputId": "39ce394e-fbad-417b-b690-65cf6a0ed81a"
      },
      "source": [
        "(2+3) * 9"
      ],
      "execution_count": null,
      "outputs": [
        {
          "output_type": "execute_result",
          "data": {
            "text/plain": [
              "45"
            ]
          },
          "metadata": {},
          "execution_count": 2
        }
      ]
    },
    {
      "cell_type": "code",
      "metadata": {
        "colab": {
          "base_uri": "https://localhost:8080/"
        },
        "id": "lDw8PD0HTjx-",
        "outputId": "bf51f632-6336-4b7a-ce77-dd30c6527586"
      },
      "source": [
        "30 * 10"
      ],
      "execution_count": null,
      "outputs": [
        {
          "output_type": "execute_result",
          "data": {
            "text/plain": [
              "300"
            ]
          },
          "metadata": {},
          "execution_count": 4
        }
      ]
    },
    {
      "cell_type": "code",
      "metadata": {
        "colab": {
          "base_uri": "https://localhost:8080/"
        },
        "id": "JcZhDFOuTlzO",
        "outputId": "e40906d5-4909-406e-d787-ad915468575e"
      },
      "source": [
        "2 ** 8"
      ],
      "execution_count": null,
      "outputs": [
        {
          "output_type": "execute_result",
          "data": {
            "text/plain": [
              "256"
            ]
          },
          "metadata": {},
          "execution_count": 5
        }
      ]
    },
    {
      "cell_type": "code",
      "metadata": {
        "colab": {
          "base_uri": "https://localhost:8080/"
        },
        "id": "OFVRwMj-TnhV",
        "outputId": "e55f9aa9-4218-45b8-f2d7-a08fc49ad570"
      },
      "source": [
        "23 / 7"
      ],
      "execution_count": null,
      "outputs": [
        {
          "output_type": "execute_result",
          "data": {
            "text/plain": [
              "3.2857142857142856"
            ]
          },
          "metadata": {},
          "execution_count": 6
        }
      ]
    },
    {
      "cell_type": "code",
      "metadata": {
        "colab": {
          "base_uri": "https://localhost:8080/"
        },
        "id": "v1_d0qjxTpI2",
        "outputId": "fdc3a3ad-f6bf-48d8-c85a-c76fafaea893"
      },
      "source": [
        "23 // 7"
      ],
      "execution_count": null,
      "outputs": [
        {
          "output_type": "execute_result",
          "data": {
            "text/plain": [
              "3"
            ]
          },
          "metadata": {},
          "execution_count": 7
        }
      ]
    },
    {
      "cell_type": "code",
      "metadata": {
        "colab": {
          "base_uri": "https://localhost:8080/"
        },
        "id": "hoCo1SicTqt_",
        "outputId": "7660332e-19c0-4c5f-e0aa-fd59642c88e5"
      },
      "source": [
        "5 % 2 "
      ],
      "execution_count": null,
      "outputs": [
        {
          "output_type": "execute_result",
          "data": {
            "text/plain": [
              "1"
            ]
          },
          "metadata": {},
          "execution_count": 8
        }
      ]
    },
    {
      "cell_type": "code",
      "metadata": {
        "colab": {
          "base_uri": "https://localhost:8080/"
        },
        "id": "bnQreCaKTsG-",
        "outputId": "4cefd786-1a78-4714-ab68-0e333158d93d"
      },
      "source": [
        "23 % 7"
      ],
      "execution_count": null,
      "outputs": [
        {
          "output_type": "execute_result",
          "data": {
            "text/plain": [
              "2"
            ]
          },
          "metadata": {},
          "execution_count": 9
        }
      ]
    },
    {
      "cell_type": "markdown",
      "metadata": {
        "id": "4ECek5BUbnJb"
      },
      "source": [
        "# Talleres"
      ]
    },
    {
      "cell_type": "markdown",
      "metadata": {
        "id": "Nt71yrh_ZETn"
      },
      "source": [
        "1. Escribe un Programa en Python que de el resultado de 3 a la potencia 100"
      ]
    },
    {
      "cell_type": "code",
      "metadata": {
        "colab": {
          "base_uri": "https://localhost:8080/"
        },
        "id": "IHgZKBaMZO__",
        "outputId": "c4912f23-d290-4253-de6e-5900a9b04b12"
      },
      "source": [
        ""
      ],
      "execution_count": null,
      "outputs": [
        {
          "output_type": "execute_result",
          "data": {
            "text/plain": [
              "515377520732011331036461129765621272702107522001"
            ]
          },
          "metadata": {},
          "execution_count": 1
        }
      ]
    },
    {
      "cell_type": "markdown",
      "metadata": {
        "id": "YYUfZwWBZRRv"
      },
      "source": [
        "2. Escribe un programa en Python que calcule la raiz cuadrada de 216"
      ]
    },
    {
      "cell_type": "code",
      "metadata": {
        "colab": {
          "base_uri": "https://localhost:8080/"
        },
        "id": "bN-UUyqOZYyn",
        "outputId": "48ceb033-d8ef-46c6-8d14-5fa445a46398"
      },
      "source": [
        ""
      ],
      "execution_count": null,
      "outputs": [
        {
          "output_type": "execute_result",
          "data": {
            "text/plain": [
              "14.696938456699069"
            ]
          },
          "metadata": {},
          "execution_count": 3
        }
      ]
    },
    {
      "cell_type": "markdown",
      "metadata": {
        "id": "EBI7CW0uZnQ2"
      },
      "source": [
        "3. Escribe un programa en Python que calcule el modulo (o residuo) del numero 20123 entre 12"
      ]
    },
    {
      "cell_type": "code",
      "metadata": {
        "colab": {
          "base_uri": "https://localhost:8080/"
        },
        "id": "EPuCcvUaZ2Tg",
        "outputId": "ee9faa0f-eb10-4abe-bd49-4e665c96ecc8"
      },
      "source": [
        ""
      ],
      "execution_count": null,
      "outputs": [
        {
          "output_type": "execute_result",
          "data": {
            "text/plain": [
              "11"
            ]
          },
          "metadata": {},
          "execution_count": 4
        }
      ]
    },
    {
      "cell_type": "markdown",
      "metadata": {
        "id": "ec0TopX_Z4hJ"
      },
      "source": [
        "4. Cual es la diferencia de (8/2)(2+2) y 8/2*2+2"
      ]
    },
    {
      "cell_type": "code",
      "metadata": {
        "colab": {
          "base_uri": "https://localhost:8080/"
        },
        "id": "DRA3U-lQaVuI",
        "outputId": "d7a06a36-31fa-44d4-a552-dd6f63477b3e"
      },
      "source": [
        ""
      ],
      "execution_count": null,
      "outputs": [
        {
          "output_type": "execute_result",
          "data": {
            "text/plain": [
              "16.0"
            ]
          },
          "metadata": {},
          "execution_count": 6
        }
      ]
    },
    {
      "cell_type": "code",
      "metadata": {
        "colab": {
          "base_uri": "https://localhost:8080/"
        },
        "id": "nwaNIHTdakpw",
        "outputId": "3b12b8fc-394b-4edd-f131-c76016d291d5"
      },
      "source": [
        ""
      ],
      "execution_count": null,
      "outputs": [
        {
          "output_type": "execute_result",
          "data": {
            "text/plain": [
              "10.0"
            ]
          },
          "metadata": {},
          "execution_count": 7
        }
      ]
    },
    {
      "cell_type": "markdown",
      "metadata": {
        "id": "Tg2_vWUPazmP"
      },
      "source": [
        "5. Escribe un programa en Python que acepte el radio de un círculo del usuario y calcule el área.\n",
        "\n",
        "En geometría, el área encerrada por un círculo de radio r es πr2. Aquí la letra griega π representa una constante, aproximadamente igual a 3,14159, que es igual al cociente entre la circunferencia de cualquier círculo y su diámetro."
      ]
    },
    {
      "cell_type": "code",
      "metadata": {
        "id": "V2-yII21brTT"
      },
      "source": [
        ""
      ],
      "execution_count": null,
      "outputs": []
    }
  ]
}