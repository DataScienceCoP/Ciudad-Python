{
  "cells": [
    {
      "cell_type": "markdown",
      "metadata": {
        "id": "_ti4LOfKU8i3"
      },
      "source": [
        "![Data Science Black@300x.png](https://i.imgur.com/eJKkh5m.png)\n",
        "\n",
        "# ¡Bienvenidos a la \"Ciudad Python: Programando la Ciudad del Futuro\"!\n",
        "\n",
        "En este \"notebook\" vamos a jugar con la lógica. Dependiendo de ciertas condiciones, entonces se debe obetener cierto resultado. De lo contrario, se obtiene otro resultado.\n",
        "\n",
        "## ¿Lógica?\n",
        "\n",
        "En efecto, en Python puedes cambiar el destino de tus instrucciones dándole un toque de lógica a tus programas."
      ]
    },
    {
      "cell_type": "markdown",
      "metadata": {
        "id": "eo-yk_GPFe-k"
      },
      "source": [
        "## Operadores Lógicos\n",
        "Se utilizan para ayudarnos a comparar operandos verdaderos o falsos. Estos son muy útiles, porque pueden hacer que nuestra definición de reglas sea más compleja, lo que significa un código más inteligente. Hay tres operadores lógicos principales:\n",
        "\n",
        "### AND\n",
        "\n",
        "El operador AND comprueba que los valores a la derecha e izquierda sean ambos TRUE. Si hay acciones en nuestro código que solo deben ejecutarse cuando se cumplen dos condiciones, debemos usar el operador AND.\n",
        "\n",
        "### OR\n",
        "El operador OR comprueba que al menos un valor que se está comparando sea TRUE.\n",
        "\n",
        "### NOT\n",
        "El operador NOT comprueba que el valor que se está comparando sea FALSE.\n"
      ]
    },
    {
      "cell_type": "code",
      "execution_count": null,
      "metadata": {
        "colab": {
          "base_uri": "https://localhost:8080/"
        },
        "id": "LrOys0aMHeGb",
        "outputId": "5f679e70-bed4-4596-978b-885cd857b675"
      },
      "outputs": [
        {
          "name": "stdout",
          "output_type": "stream",
          "text": [
            "A and B is False\n",
            "A or B is True\n",
            "not A is True\n"
          ]
        }
      ],
      "source": [
        "A = True\n",
        "B = False\n",
        "\n",
        "print('A and B is', A and B)\n",
        "\n",
        "print('A or B is', A or B)\n",
        "\n",
        "print('not A is', not B)\n"
      ]
    },
    {
      "cell_type": "code",
      "execution_count": 1,
      "metadata": {
        "colab": {
          "base_uri": "https://localhost:8080/"
        },
        "id": "aY9GutdBUfsz",
        "outputId": "ae9913bb-9335-4981-c180-ad658eff2645"
      },
      "outputs": [
        {
          "name": "stdout",
          "output_type": "stream",
          "text": [
            "at least one of the statements is true\n"
          ]
        }
      ],
      "source": [
        "if (590 == 110) or (99 == 99) :\n",
        "    print(\"at least one of the statements is true\")"
      ]
    },
    {
      "cell_type": "code",
      "execution_count": 2,
      "metadata": {
        "colab": {
          "base_uri": "https://localhost:8080/"
        },
        "id": "5J3FiXlBVH1G",
        "outputId": "11154a03-8690-4845-e915-d67a74ab5f33"
      },
      "outputs": [
        {
          "name": "stdout",
          "output_type": "stream",
          "text": [
            "10 is divisible by either 3 or 5\n"
          ]
        }
      ],
      "source": [
        "a = 10\n",
        "  \n",
        "if not a:\n",
        "    print(\"Boolean value of a is True\")\n",
        "else:\n",
        "    print(\"10 is divisible by either 3 or 5\")"
      ]
    },
    {
      "cell_type": "markdown",
      "metadata": {
        "id": "o91wwaCOPs_F"
      },
      "source": [
        "## La Estructura Condicional\n",
        "\n",
        "Cuando escribimos código Python es posible ejecutar instrucciones dependiendo de una o varias condiciones específicas.\n",
        "\n",
        "### Indentación\n",
        "\n",
        "En Python verás que cada espacio de código está identado osea, que dejamos espacio para identificar los bloques de código. Esto es parte de la sintaxis de Python.\n",
        "\n"
      ]
    },
    {
      "cell_type": "code",
      "execution_count": 4,
      "metadata": {
        "colab": {
          "base_uri": "https://localhost:8080/",
          "height": 135
        },
        "id": "g32YNeAhQeUt",
        "outputId": "ce5d0a8f-15f5-4385-de59-4946af9c7c83"
      },
      "outputs": [
        {
          "ename": "IndentationError",
          "evalue": "expected an indented block after 'if' statement on line 3 (521260899.py, line 4)",
          "output_type": "error",
          "traceback": [
            "\u001b[1;36m  Cell \u001b[1;32mIn[4], line 4\u001b[1;36m\u001b[0m\n\u001b[1;33m    print(\"Hola Ana!\") # Este bloque de código debe estar espaciado al principio.\u001b[0m\n\u001b[1;37m    ^\u001b[0m\n\u001b[1;31mIndentationError\u001b[0m\u001b[1;31m:\u001b[0m expected an indented block after 'if' statement on line 3\n"
          ]
        }
      ],
      "source": [
        "nombre = \"Ana\"\n",
        "\n",
        "if nombre == \"Ana\":\n",
        "print(\"Hola Ana!\") # Este bloque de código debe estar espaciado al principio. Lo recomendable es dejar 4 espacios al principio"
      ]
    },
    {
      "cell_type": "markdown",
      "metadata": {
        "id": "uMoXajTHSBGZ"
      },
      "source": [
        "### IF\n",
        "\n",
        "Es un bloque de código que nos permite controlar las decisión que tomaría la computadora cuando se ejecuta el código."
      ]
    },
    {
      "cell_type": "code",
      "execution_count": 7,
      "metadata": {
        "colab": {
          "base_uri": "https://localhost:8080/"
        },
        "id": "pr5QT_PUSAzl",
        "outputId": "cdabf5de-6f00-4e72-bfd3-681be8868fb3"
      },
      "outputs": [],
      "source": [
        "clima = input(\"\"\"\n",
        "Como esta el clima?\n",
        "- soleado\n",
        "- lluvioso\n",
        "- nublado\n",
        "\"\"\")\n",
        "\n",
        "if clima == \"soleado\":\n",
        "    print (\"El dia esta soleado, podemos ir al parque🌞🚶🏞️ \")\n",
        "\n",
        "if clima == \"lluvioso\":\n",
        "    print (\"El dia esta lluvioso, nos quedamos en casa \")\n",
        "\n",
        "if clima == \"nublado\":\n",
        "    print (\"El dia esta nublado, salimos y llevamos paraguas ☂☔💧🌈 \")\n"
      ]
    },
    {
      "cell_type": "code",
      "execution_count": 8,
      "metadata": {
        "colab": {
          "base_uri": "https://localhost:8080/"
        },
        "id": "JOxy3pE8T66p",
        "outputId": "3ea32aec-a808-4c0d-cefa-1c340cb46c0c"
      },
      "outputs": [
        {
          "name": "stdout",
          "output_type": "stream",
          "text": [
            "10 is a positive number.\n",
            "This is always printed.\n",
            "This is also always printed.\n"
          ]
        }
      ],
      "source": [
        "num = 10\n",
        "if num > 0:\n",
        "    print(num, \"is a positive number.\")\n",
        "print(\"This is always printed.\")\n",
        "\n",
        "num = -5\n",
        "if num > 0:\n",
        "    print(num, \"is a positive number.\")\n",
        "print(\"This is also always printed.\")"
      ]
    },
    {
      "cell_type": "markdown",
      "metadata": {
        "id": "y6kSNg5gO8F7"
      },
      "source": [
        "### ELSE\n",
        "\n",
        "Es una forma de ejecutar código si la condicion `if` no se cumple"
      ]
    },
    {
      "cell_type": "code",
      "execution_count": null,
      "metadata": {
        "id": "rP8IMB_UB4x-"
      },
      "outputs": [],
      "source": [
        "clima = input(\"\"\"\n",
        "Como esta el clima?\n",
        "- soleado\n",
        "- lluvioso\n",
        "- nublado\n",
        "\"\"\")\n",
        "\n",
        "if clima == \"soleado\":\n",
        "    print (\"El dia esta soleado, podemos ir al parque🌞🏞️🚶 \")\n",
        "else:\n",
        "    print(\"No conozco ese clima 🤔\")\n"
      ]
    },
    {
      "cell_type": "code",
      "execution_count": 10,
      "metadata": {
        "id": "8z89VkmOPCRK"
      },
      "outputs": [
        {
          "name": "stdout",
          "output_type": "stream",
          "text": [
            "Eres mayor de edad!\n"
          ]
        }
      ],
      "source": [
        "edad = 18\n",
        "\n",
        "if edad >= 18:\n",
        "    print(\"Eres mayor de edad!\")\n",
        "else:\n",
        "    print(\"Todavia eres menor de edad!\")"
      ]
    },
    {
      "cell_type": "markdown",
      "metadata": {
        "id": "L2CybcUDO-7r"
      },
      "source": [
        "### ELIF\n",
        "\n",
        "Con esta condición `elif` agregamos la posibilidad de incluir una condición si la primera no se cumple. Podemos incluir cuantos `elif` sean necesarios."
      ]
    },
    {
      "cell_type": "code",
      "execution_count": null,
      "metadata": {
        "id": "qCDuy1vMB4x_"
      },
      "outputs": [],
      "source": [
        "clima = input(\"\"\"\n",
        "Cómo está el clima?\n",
        "- soleado\n",
        "- lluvioso\n",
        "- nublado\n",
        "\"\"\")\n",
        "\n",
        "if clima == \"soleado\":\n",
        "    print (\"El dia está soleado, podemos ir al parque🌞🏞️🚶 \")\n",
        "elif clima == \"lluvioso\":\n",
        "    print (\"El dia está lluvioso, mejor nos quedamos en la casa 🏠⛈️\")\n",
        "elif clima == \"nublado\":\n",
        "    print(\"El dia está nublado, ten cuidado con los rayos ⚡\")\n",
        "else:\n",
        "    print(\"No conozco ese clima 🤔\")\n"
      ]
    },
    {
      "cell_type": "code",
      "execution_count": null,
      "metadata": {
        "id": "PuFOw7jbRf7l"
      },
      "outputs": [],
      "source": [
        "edad = 18\n",
        "\n",
        "if edad >= 18:\n",
        "    print(\"Eres mayor de edad!\")\n",
        "elif edad >= 0:\n",
        "    print(\"Todavía eres menor de edad!\")\n",
        "else:\n",
        "    print(\"Edad inválida!\")"
      ]
    },
    {
      "cell_type": "markdown",
      "metadata": {
        "id": "2MS5eFWQS_UV"
      },
      "source": [
        "# Ejercicios"
      ]
    },
    {
      "cell_type": "markdown",
      "metadata": {
        "id": "8NtefTRkYmoj"
      },
      "source": [
        "Vamos a ver un programa que adivina tu número:"
      ]
    },
    {
      "cell_type": "code",
      "execution_count": 9,
      "metadata": {
        "id": "Xv_9mNmmYlMb"
      },
      "outputs": [
        {
          "name": "stdout",
          "output_type": "stream",
          "text": [
            "El numero ganador era 9\n"
          ]
        }
      ],
      "source": [
        "import random\n",
        "\n",
        "Numero_Adivinado = input('Adivina un número del 1 al 10 ')\n",
        "Numero_Ganador = random.randint(1, 10)\n",
        "\n",
        "if Numero_Adivinado == str(Numero_Ganador):\n",
        "    print('Feliciadades lo has logrado')\n",
        "elif float(Numero_Adivinado) >= 11:\n",
        "    print('Leistes bien?')\n",
        "else:\n",
        "    print('El número ganador era {}'.format(Numero_Ganador))\n"
      ]
    },
    {
      "cell_type": "markdown",
      "metadata": {
        "id": "tIpu0504O0pj"
      },
      "source": [
        "# Talleres\n"
      ]
    },
    {
      "cell_type": "markdown",
      "metadata": {},
      "source": []
    },
    {
      "cell_type": "markdown",
      "metadata": {
        "id": "Sx1Edje2KFiR"
      },
      "source": [
        "1. Escribe un programa en Python para convertir temperaturas a y desde celsius, fahrenheit.\n",
        "\n",
        "[Fórmula : c/5 = f-32/9 [ donde c = temperatura en celsius y f = temperatura en fahrenheit ]\n",
        "\n",
        "Resultado esperado :\n",
        "60°C es 140 en Fahrenheit\n",
        "45°F es 7 en Celsius\n"
      ]
    },
    {
      "cell_type": "code",
      "execution_count": null,
      "metadata": {
        "id": "cnJ1ZUJvKG5P"
      },
      "outputs": [],
      "source": []
    },
    {
      "cell_type": "markdown",
      "metadata": {
        "id": "V89H0yULSaP-"
      },
      "source": [
        "\n",
        "2. Escribe un programa en Python para calcular la edad de un perro en años de perro\n",
        "Nota: Durante los dos primeros años, un año canino equivale a 10,5 años humanos. Después, cada año canino equivale a 4 años humanos.\n",
        "Resultado esperado:\n",
        "\n",
        "Introduzca la edad de un perro en años humanos: 15                                    \n",
        "La edad del perro en años de perro es 73"
      ]
    },
    {
      "cell_type": "code",
      "execution_count": null,
      "metadata": {
        "id": "8uDdZs0XSbPe"
      },
      "outputs": [],
      "source": []
    },
    {
      "cell_type": "markdown",
      "metadata": {
        "id": "TIbK4XqaSlIO"
      },
      "source": [
        "3. Escribe un programa en Python para comprobar si un alfabeto es una vocal o una consonante\n",
        "Salida esperada:\n",
        "\n",
        "Introduce una letra del alfabeto: k                                       \n",
        "k es una consonante.\n"
      ]
    },
    {
      "cell_type": "code",
      "execution_count": null,
      "metadata": {
        "id": "yTSWvdw-Sm0u"
      },
      "outputs": [],
      "source": []
    }
  ],
  "metadata": {
    "colab": {
      "collapsed_sections": [],
      "name": "Semana_3_1_Jugando_con_la_Logica.ipynb",
      "provenance": []
    },
    "kernelspec": {
      "display_name": "Python 3.10.5 64-bit",
      "language": "python",
      "name": "python3"
    },
    "language_info": {
      "codemirror_mode": {
        "name": "ipython",
        "version": 3
      },
      "file_extension": ".py",
      "mimetype": "text/x-python",
      "name": "python",
      "nbconvert_exporter": "python",
      "pygments_lexer": "ipython3",
      "version": "3.10.5"
    },
    "vscode": {
      "interpreter": {
        "hash": "26de051ba29f2982a8de78e945f0abaf191376122a1563185a90213a26c5da77"
      }
    }
  },
  "nbformat": 4,
  "nbformat_minor": 0
}
