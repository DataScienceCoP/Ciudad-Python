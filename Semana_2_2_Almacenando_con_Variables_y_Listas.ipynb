{
  "nbformat": 4,
  "nbformat_minor": 0,
  "metadata": {
    "colab": {
      "name": "Semana_2_2_Almacenando_con_Variables_y_Listas.ipynb",
      "provenance": [],
      "collapsed_sections": []
    },
    "kernelspec": {
      "name": "python3",
      "display_name": "Python 3"
    },
    "language_info": {
      "name": "python"
    }
  },
  "cells": [
    {
      "cell_type": "markdown",
      "metadata": {
        "id": "6qsqTJ4uYzLL"
      },
      "source": [
        "![Data Science Black@300x.png](https://i.imgur.com/eJKkh5m.png)\n",
        "\n",
        "# ¡Bienvenidos al taller \"Learning to Code with Dell Technologies\"!\n",
        "\n",
        "En este \"notebook\" vamos a continuar aprendiendo mas a detalle las diferentes formas de como almacenar listas de cosas en Python\n",
        "\n",
        "## ¿Que es una Lista?\n",
        "\n",
        "Una Lista es un arreglo de cosas, que tienen una secuencia y forman parte de un grupo."
      ]
    },
    {
      "cell_type": "markdown",
      "metadata": {
        "deletable": true,
        "editable": true,
        "id": "XhJ_q9ReZXYD"
      },
      "source": [
        "## Contenedores básicos\n",
        "\n",
        "> Nota: Los objetos **mutables** pueden ser modificados después de su creación y los **inmutables** no.\n",
        "\n",
        "Los contenedores son objetos que pueden utilizarse para agrupar otros objetos. Los tipos de contenedores básicos son:\n",
        "\n",
        "- **`str`** (cadena: inmutable; indexada por enteros; los elementos se almacenan en el orden en que fueron añadidos)\n",
        "- **`list`** (lista: mutable; indexada por enteros; los elementos se almacenan en el orden en que se añaden)\n",
        "  - `[3, 5, 6, 3, 'perro', 'gato', Falso]`\n",
        "- (tupla: inmutable; indexada por enteros; los elementos se almacenan en el orden en que se añaden)\n",
        "  - (3, 5, 6, 3, 'perro', 'gato', Falso)`\n",
        "- **`set`** (set: mutable; no está indexado en absoluto; los elementos NO se almacenan en el orden en que se añadieron; sólo puede contener objetos inmutables; NO contiene objetos duplicados)\n",
        "  - `{3, 5, 6, 3, 'perro', 'gato', Falso}`\n",
        "- **`dict`** (diccionario: mutable; los pares clave-valor están indexados por claves inmutables; los elementos NO se almacenan en el orden en que se añadieron)\n",
        "  - `{'nombre': 'Jane', 'edad': 23, 'fav_foods': ['pizza', 'fruta', 'pescado']}`\n",
        "\n",
        "Cuando defina listas, tuplas o conjuntos, utilice comas (,) para separar los elementos individuales. Cuando defina dicts, utilice dos puntos (:) para separar las claves de los valores y comas (,) para separar los pares clave-valor.\n",
        "\n",
        "Las cadenas, las listas y las tuplas son todos **tipos de secuencia** que pueden utilizar los operadores `+`, `*`, `+=` y `*=`."
      ]
    },
    {
      "cell_type": "code",
      "metadata": {
        "collapsed": true,
        "deletable": true,
        "editable": true,
        "id": "GjcS2o5yZXYD"
      },
      "source": [
        "# Assign some containers to different variables\n",
        "list1 = [3, 5, 6, 3, 'dog', 'cat', False]\n",
        "tuple1 = (3, 5, 6, 3, 'dog', 'cat', False)\n",
        "set1 = {3, 5, 6, 3, 'dog', 'cat', False}\n",
        "dict1 = {'name': 'Jane', 'age': 23, 'fav_foods': ['pizza', 'fruit', 'fish']}"
      ],
      "execution_count": null,
      "outputs": []
    },
    {
      "cell_type": "code",
      "metadata": {
        "deletable": true,
        "editable": true,
        "id": "tpP6BQ-VZXYD",
        "outputId": "a6998bb0-9166-4e6b-833f-e5d7944d9794"
      },
      "source": [
        "# Items in the list object are stored in the order they were added\n",
        "list1"
      ],
      "execution_count": null,
      "outputs": [
        {
          "data": {
            "text/plain": [
              "[3, 5, 6, 3, 'dog', 'cat', False]"
            ]
          },
          "execution_count": 27,
          "metadata": {},
          "output_type": "execute_result"
        }
      ]
    },
    {
      "cell_type": "code",
      "metadata": {
        "deletable": true,
        "editable": true,
        "id": "W9DCezxBZXYD",
        "outputId": "be175e61-e9ab-42ba-c606-52f38b3dbff6"
      },
      "source": [
        "# Items in the tuple object are stored in the order they were added\n",
        "tuple1"
      ],
      "execution_count": null,
      "outputs": [
        {
          "data": {
            "text/plain": [
              "(3, 5, 6, 3, 'dog', 'cat', False)"
            ]
          },
          "execution_count": 28,
          "metadata": {},
          "output_type": "execute_result"
        }
      ]
    },
    {
      "cell_type": "code",
      "metadata": {
        "deletable": true,
        "editable": true,
        "id": "VGG1rwgxZXYE",
        "outputId": "c5ab32bc-e347-4470-dc3b-58a8be587499"
      },
      "source": [
        "# Items in the set object are not stored in the order they were added\n",
        "# Also, notice that the value 3 only appears once in this set object\n",
        "set1"
      ],
      "execution_count": null,
      "outputs": [
        {
          "data": {
            "text/plain": [
              "{False, 3, 5, 6, 'dog', 'cat'}"
            ]
          },
          "execution_count": 29,
          "metadata": {},
          "output_type": "execute_result"
        }
      ]
    },
    {
      "cell_type": "code",
      "metadata": {
        "deletable": true,
        "editable": true,
        "id": "yIVGuMrDZXYE",
        "outputId": "e8ee4070-c2d5-4ee3-ec57-d533b55a2850"
      },
      "source": [
        "# Items in the dict object are not stored in the order they were added\n",
        "dict1"
      ],
      "execution_count": null,
      "outputs": [
        {
          "data": {
            "text/plain": [
              "{'age': 23, 'fav_foods': ['pizza', 'fruit', 'fish'], 'name': 'Jane'}"
            ]
          },
          "execution_count": 30,
          "metadata": {},
          "output_type": "execute_result"
        }
      ]
    },
    {
      "cell_type": "code",
      "metadata": {
        "deletable": true,
        "editable": true,
        "id": "eJ6YBaksZXYF",
        "outputId": "a0eb7c22-3c93-4abc-f70b-9ec07d3c5c01"
      },
      "source": [
        "# Add and re-assign\n",
        "list1 += [5, 'grapes']\n",
        "list1"
      ],
      "execution_count": null,
      "outputs": [
        {
          "data": {
            "text/plain": [
              "[3, 5, 6, 3, 'dog', 'cat', False, 5, 'grapes']"
            ]
          },
          "execution_count": 31,
          "metadata": {},
          "output_type": "execute_result"
        }
      ]
    },
    {
      "cell_type": "code",
      "metadata": {
        "deletable": true,
        "editable": true,
        "id": "eqARyTkWZXYF",
        "outputId": "0d8ffaf1-0488-4c67-d0ea-3ce8acbec771"
      },
      "source": [
        "# Add and re-assign\n",
        "tuple1 += (5, 'grapes')\n",
        "tuple1"
      ],
      "execution_count": null,
      "outputs": [
        {
          "data": {
            "text/plain": [
              "(3, 5, 6, 3, 'dog', 'cat', False, 5, 'grapes')"
            ]
          },
          "execution_count": 32,
          "metadata": {},
          "output_type": "execute_result"
        }
      ]
    },
    {
      "cell_type": "code",
      "metadata": {
        "deletable": true,
        "editable": true,
        "id": "BTJfSR6JZXYF",
        "outputId": "58b1262d-3e41-4ca5-b8df-3024f3d9b82b"
      },
      "source": [
        "# Multiply\n",
        "[1, 2, 3, 4] * 2"
      ],
      "execution_count": null,
      "outputs": [
        {
          "data": {
            "text/plain": [
              "[1, 2, 3, 4, 1, 2, 3, 4]"
            ]
          },
          "execution_count": 33,
          "metadata": {},
          "output_type": "execute_result"
        }
      ]
    },
    {
      "cell_type": "code",
      "metadata": {
        "deletable": true,
        "editable": true,
        "id": "1IcpGzWTZXYG",
        "outputId": "adc5f88a-e6b7-4060-bdb9-e0699cb74fcb"
      },
      "source": [
        "# Multiply\n",
        "(1, 2, 3, 4) * 3"
      ],
      "execution_count": null,
      "outputs": [
        {
          "data": {
            "text/plain": [
              "(1, 2, 3, 4, 1, 2, 3, 4, 1, 2, 3, 4)"
            ]
          },
          "execution_count": 34,
          "metadata": {},
          "output_type": "execute_result"
        }
      ]
    },
    {
      "cell_type": "markdown",
      "metadata": {
        "deletable": true,
        "editable": true,
        "id": "euXYdnJmZXYG"
      },
      "source": [
        "## Acceso a los datos en los contenedores\n",
        "\n",
        "Para cadenas, listas, tuplas y dicts, podemos utilizar la **notación de subíndice** (corchetes) para acceder a los datos en un índice.\n",
        "\n",
        "- las cadenas, listas y tuplas están indexadas por enteros, **empezando por 0** para el primer elemento\n",
        "  - estos tipos de secuencias también permiten acceder a un rango de elementos, lo que se conoce como **corte**.\n",
        "  - utilizar la **indexación negativa** para empezar por el final de la secuencia\n",
        "- los dicts se indexan por sus claves\n",
        "\n",
        "> Nota: los conjuntos no están indexados, por lo que no podemos utilizar la notación de subíndice para acceder a los elementos de los datos."
      ]
    },
    {
      "cell_type": "code",
      "metadata": {
        "deletable": true,
        "editable": true,
        "id": "Y-1dX-z2ZXYG",
        "outputId": "1f105d7b-c956-45ef-c583-ecfa495f7c61"
      },
      "source": [
        "# Access the first item in a sequence\n",
        "list1[0]"
      ],
      "execution_count": null,
      "outputs": [
        {
          "data": {
            "text/plain": [
              "3"
            ]
          },
          "execution_count": 35,
          "metadata": {},
          "output_type": "execute_result"
        }
      ]
    },
    {
      "cell_type": "code",
      "metadata": {
        "deletable": true,
        "editable": true,
        "id": "2zD7v48wZXYG",
        "outputId": "1d28fc34-0f6a-4724-ef52-7c42c3b20560"
      },
      "source": [
        "# Access the last item in a sequence\n",
        "tuple1[-1]"
      ],
      "execution_count": null,
      "outputs": [
        {
          "data": {
            "text/plain": [
              "'grapes'"
            ]
          },
          "execution_count": 36,
          "metadata": {},
          "output_type": "execute_result"
        }
      ]
    },
    {
      "cell_type": "code",
      "metadata": {
        "deletable": true,
        "editable": true,
        "id": "jtiuVBgQZXYG",
        "outputId": "b4492e96-2f14-4298-9907-e58c1d5617f0"
      },
      "source": [
        "# Access a range of items in a sequence\n",
        "simple_string1[3:8]"
      ],
      "execution_count": null,
      "outputs": [
        {
          "data": {
            "text/plain": [
              "'examp'"
            ]
          },
          "execution_count": 37,
          "metadata": {},
          "output_type": "execute_result"
        }
      ]
    },
    {
      "cell_type": "code",
      "metadata": {
        "deletable": true,
        "editable": true,
        "id": "p_FtfGgdZXYH",
        "outputId": "780574f9-5a6d-4832-ad6c-4dc17e69f3e5"
      },
      "source": [
        "# Access a range of items in a sequence\n",
        "tuple1[:-3]"
      ],
      "execution_count": null,
      "outputs": [
        {
          "data": {
            "text/plain": [
              "(3, 5, 6, 3, 'dog', 'cat')"
            ]
          },
          "execution_count": 38,
          "metadata": {},
          "output_type": "execute_result"
        }
      ]
    },
    {
      "cell_type": "code",
      "metadata": {
        "deletable": true,
        "editable": true,
        "id": "IeHw8fkVZXYH",
        "outputId": "3f619340-ee4a-4129-8991-8f001227f67f"
      },
      "source": [
        "# Access a range of items in a sequence\n",
        "list1[4:]"
      ],
      "execution_count": null,
      "outputs": [
        {
          "data": {
            "text/plain": [
              "['dog', 'cat', False, 5, 'grapes']"
            ]
          },
          "execution_count": 39,
          "metadata": {},
          "output_type": "execute_result"
        }
      ]
    },
    {
      "cell_type": "code",
      "metadata": {
        "deletable": true,
        "editable": true,
        "id": "vtw1EMFtZXYH",
        "outputId": "e1620a1f-c901-4091-fe73-3787ca71e6e2"
      },
      "source": [
        "# Access an item in a dictionary\n",
        "dict1['name']"
      ],
      "execution_count": null,
      "outputs": [
        {
          "data": {
            "text/plain": [
              "'Jane'"
            ]
          },
          "execution_count": 40,
          "metadata": {},
          "output_type": "execute_result"
        }
      ]
    },
    {
      "cell_type": "code",
      "metadata": {
        "deletable": true,
        "editable": true,
        "id": "k5csrQdsZXYH",
        "outputId": "d221934d-8681-4519-a309-10a5bfa76d7b"
      },
      "source": [
        "# Access an element of a sequence in a dictionary\n",
        "dict1['fav_foods'][2]"
      ],
      "execution_count": null,
      "outputs": [
        {
          "data": {
            "text/plain": [
              "'fish'"
            ]
          },
          "execution_count": 41,
          "metadata": {},
          "output_type": "execute_result"
        }
      ]
    },
    {
      "cell_type": "code",
      "metadata": {
        "id": "7WWqITmvWD0x"
      },
      "source": [
        ""
      ],
      "execution_count": null,
      "outputs": []
    },
    {
      "cell_type": "markdown",
      "metadata": {
        "id": "9Bhput6cdwms"
      },
      "source": [
        "# Talleres"
      ]
    },
    {
      "cell_type": "markdown",
      "metadata": {
        "id": "eupCZ9wx_0xB"
      },
      "source": [
        "\n",
        "1. Escribe un programa en Python para sumar todos los elementos de la lista de numeros `[1,2,-8]`"
      ]
    },
    {
      "cell_type": "code",
      "metadata": {
        "id": "vZpP734a_1lp"
      },
      "source": [
        ""
      ],
      "execution_count": null,
      "outputs": []
    },
    {
      "cell_type": "markdown",
      "metadata": {
        "id": "StI0hwb3_2Ka"
      },
      "source": [
        "2. Escribe un programa en Python para multiplicar todos los elementos de la misma lista `[1,2,-8]`"
      ]
    },
    {
      "cell_type": "code",
      "metadata": {
        "id": "tsW02ARN_5Vh"
      },
      "source": [
        ""
      ],
      "execution_count": null,
      "outputs": []
    },
    {
      "cell_type": "markdown",
      "metadata": {
        "id": "xRWMDS57AIWk"
      },
      "source": [
        "3. Escribe un programa en Python para copiar la lista `[10, 22, 44, 23, 4]` a una nueva y cambie el primer caracter por el emoji '🙂'\n"
      ]
    },
    {
      "cell_type": "code",
      "metadata": {
        "id": "5HVhnyWbAJ3Z"
      },
      "source": [
        ""
      ],
      "execution_count": null,
      "outputs": []
    }
  ]
}