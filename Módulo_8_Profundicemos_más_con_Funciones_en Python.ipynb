{
  "cells": [
    {
      "cell_type": "markdown",
      "metadata": {
        "id": "scJIrYX7bFkm"
      },
      "source": [
        "![Data Science Black@300x.png](https://i.imgur.com/eJKkh5m.png)\n",
        "\n",
        "# ¡Bienvenidos a la \"Ciudad Python: Programando la Ciudad del Futuro\"!\n",
        "\n",
        "\n",
        "En este módulo, profundizaremos en las funciones en Python, estudiando funciones con un número fijo de parámetros y las funciones lambda. Después de aprender sobre estos temas, tendrás la oportunidad de aplicar tus conocimientos en ejercicios prácticos."
      ]
    },
    {
      "cell_type": "markdown",
      "metadata": {},
      "source": [
        "## Funciones con Número Fijo de Parámetros en Python\n",
        "En Python, puedes definir funciones que toman un número fijo de parámetros. Esto significa que la cantidad de argumentos que la función espera se define cuando creas la función y no cambia durante su uso. Esto es útil cuando sabes exactamente cuántos argumentos necesita tu función.\n",
        "\n",
        "Para definir una función con un número fijo de parámetros, utilizamos la siguiente sintaxis:\n",
        "\n",
        "**def** nombre_de_función(parámetro1, parámetro2, parámetro3, ...):\n",
        "    <br> &emsp; Cuerpo de la función\n",
        "    <br> &emsp; Puedes realizar operaciones utilizando los parámetros\n",
        "    <br> &emsp; **return** resultado\n"
      ]
    },
    {
      "cell_type": "code",
      "execution_count": 2,
      "metadata": {},
      "outputs": [
        {
          "name": "stdout",
          "output_type": "stream",
          "text": [
            "La suma es:  13\n"
          ]
        }
      ],
      "source": [
        "# La siguiente función toma 2 parámetros (pueden ser tiempos o distancias) y las suma\n",
        "def suma(parametro1, parametro2):\n",
        "    resultado = parametro1 + parametro2\n",
        "    return resultado\n",
        "\n",
        "# Ahora llamemos a la función y almacenemos el resultado en una variable\n",
        "resultado_suma1 = suma(10, 3)\n",
        "print(\"La suma es: \", resultado_suma1)"
      ]
    },
    {
      "cell_type": "markdown",
      "metadata": {},
      "source": [
        "Como ves en este ejemplo, la función `suma` toma dos parametros `parametro` y `parametro2`, y devuelve la suma de estos dos números. A continuación, vamos a aprender la función `lambda`.\n",
        "\n",
        "## Funciones Lambda\n",
        "\n",
        "En Python, una función lambda es una forma de definir funciones pequeñas y anónimas. Son útiles cuando necesitas una función temporal para una operación específica, pero no quieres crear una función con un nombre definido utilizando la declaración def. Las funciones lambda se crean utilizando la palabra clave `lambda`, seguida de los argumentos y la expresión que define su comportamiento.\n",
        "\n",
        "La sintaxis general de una función lambda es la siguiente:\n",
        "\n",
        "&emsp; `lambda` argumentos: expresión"
      ]
    },
    {
      "cell_type": "code",
      "execution_count": 3,
      "metadata": {},
      "outputs": [
        {
          "name": "stdout",
          "output_type": "stream",
          "text": [
            "La suma es:  7\n"
          ]
        }
      ],
      "source": [
        "# Definimos una función lambda para sumar dos números\n",
        "suma = lambda parametro1, parametro2: parametro1 + parametro2\n",
        "\n",
        "# Llamamos a la función lambda y mostramos el resultado\n",
        "resultado_suma2 = suma(5,2)\n",
        "print(\"La suma es: \", resultado_suma2)"
      ]
    },
    {
      "cell_type": "markdown",
      "metadata": {},
      "source": [
        "Veamos otro ejemplo un poco más complejo aplicado al cálculo del descuento en el pasaje de bus. Supongamos que estás desarrollando una aplicación para calcular el descuento en el pase de transporte público para estudiantes. Puedes utilizar una función lambda para aplicar el descuento en función de la edad del estudiante:"
      ]
    },
    {
      "cell_type": "code",
      "execution_count": 5,
      "metadata": {},
      "outputs": [
        {
          "name": "stdout",
          "output_type": "stream",
          "text": [
            "El estudiante recibe un descuento del 50% en el pasaje.\n"
          ]
        }
      ],
      "source": [
        "aplicar_descuento_estudiante = lambda edad: 0.5 if edad < 18 else 1.0\n",
        "\n",
        "edad_estudiante = 16\n",
        "descuento = aplicar_descuento_estudiante(edad_estudiante)\n",
        "\n",
        "if descuento == 0.5:\n",
        "    print(\"El estudiante recibe un descuento del 50% en el pasaje.\")\n",
        "else:\n",
        "    print(\"El estudiante no recibe descuento en el pasaje\")"
      ]
    },
    {
      "cell_type": "markdown",
      "metadata": {
        "id": "biudp_NqeoaJ"
      },
      "source": [
        "## Talleres\n",
        "\n",
        "1. Supongamos que quieres calcular el costo de un viaje en transporte público con un descuento adicional basado en el horario del viaje. Puedes utilizar una función lambda, o bien, definir una función con varios argumentos para aplicar el descuento según el horario.\n"
      ]
    },
    {
      "cell_type": "code",
      "execution_count": null,
      "metadata": {},
      "outputs": [],
      "source": []
    }
  ],
  "metadata": {
    "colab": {
      "collapsed_sections": [],
      "name": "Semana_4_2_Emprendiendo_con_modulos.ipynb",
      "provenance": []
    },
    "kernelspec": {
      "display_name": "Python 3.10.5 64-bit",
      "language": "python",
      "name": "python3"
    },
    "language_info": {
      "codemirror_mode": {
        "name": "ipython",
        "version": 3
      },
      "file_extension": ".py",
      "mimetype": "text/x-python",
      "name": "python",
      "nbconvert_exporter": "python",
      "pygments_lexer": "ipython3",
      "version": "3.10.5"
    },
    "vscode": {
      "interpreter": {
        "hash": "26de051ba29f2982a8de78e945f0abaf191376122a1563185a90213a26c5da77"
      }
    }
  },
  "nbformat": 4,
  "nbformat_minor": 0
}
